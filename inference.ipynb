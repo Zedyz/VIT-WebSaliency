{
 "cells": [
  {
   "cell_type": "code",
   "id": "initial_id",
   "metadata": {
    "collapsed": true,
    "ExecuteTime": {
     "end_time": "2025-06-02T23:10:36.406550Z",
     "start_time": "2025-06-02T23:10:18.851269Z"
    }
   },
   "source": "!python test.py --ckpt checkpoint/FERDIG_all_FINAL.pth --img_dir dataset/test_orig --face_dir dataset/face_mask --text_dir dataset/text_mask --banner_dir dataset/banner_mask --noshow",
   "outputs": [
    {
     "name": "stdout",
     "output_type": "stream",
     "text": [
      "inference:  inference\\asbarez.com.png\n",
      "inference:  inference\\audi.com.png\n",
      "inference:  inference\\audiusa.com.png\n",
      "inference:  inference\\ausgamers.com.png\n",
      "inference:  inference\\autoblog.com.png\n",
      "inference:  inference\\aviationpros.com.png\n",
      "inference:  inference\\awea.org.png\n",
      "inference:  inference\\axiomthemes.com.png\n",
      "inference:  inference\\bestcolleges.com.png\n",
      "inference:  inference\\biddingforgood.com.png\n",
      "inference:  inference\\billmoyers.com.png\n",
      "inference:  inference\\blueorigin.com.png\n",
      "inference:  inference\\blurty.com.png\n",
      "inference:  inference\\bookdepository.co.uk.png\n",
      "inference:  inference\\boston25news.com.png\n",
      "inference:  inference\\bradfrost.com.png\n",
      "inference:  inference\\britzhouse.co.uk.png\n",
      "inference:  inference\\car2go.com.png\n",
      "inference:  inference\\carrefour.com.png\n",
      "inference:  inference\\cgiar.org.png\n",
      "inference:  inference\\chaosgroup.com.png\n",
      "inference:  inference\\cyberfanatix.com.png\n",
      "inference:  inference\\dailyinfographic.com.png\n",
      "inference:  inference\\dailymotion.com.png\n",
      "inference:  inference\\dailystar.com.lb.png\n",
      "inference:  inference\\dartmouth-hitchcock.org.png\n",
      "inference:  inference\\dav.org.png\n",
      "inference:  inference\\dowagro.com.png\n",
      "inference:  inference\\dsnews.com.png\n",
      "inference:  inference\\embedsocial.com.png\n",
      "inference:  inference\\erratasec.com.png\n",
      "inference:  inference\\ferguson.com.png\n",
      "inference:  inference\\freebiesbug.com.png\n",
      "inference:  inference\\freesmileys.org.png\n",
      "inference:  inference\\hitachivantara.com.png\n",
      "inference:  inference\\ifttt.com.png\n",
      "inference:  inference\\kullutourism.com.png\n",
      "inference:  inference\\lehigh.edu.png\n",
      "inference:  inference\\lightthenight.org.png\n",
      "inference:  inference\\minitab.com.png\n",
      "inference:  inference\\myjobcontact.com.png\n",
      "inference:  inference\\mypalmbeachpost.com.png\n",
      "inference:  inference\\nassaucountyny.gov.png\n",
      "inference:  inference\\newcasinos.guru.png\n",
      "inference:  inference\\ninemsn.com.au.png\n",
      "inference:  inference\\now.org.png\n",
      "inference:  inference\\nsnews.com.png\n",
      "inference:  inference\\pacific.edu.png\n",
      "inference:  inference\\postach.io.png\n",
      "inference:  inference\\presstv.com.png\n",
      "inference:  inference\\referralcandy.com.png\n",
      "inference:  inference\\southwales.ac.uk.png\n",
      "inference:  inference\\surfcanyon.com.png\n",
      "inference:  inference\\theme4press.com.png\n",
      "inference:  inference\\ticknerconstructioninc.com.png\n",
      "inference:  inference\\ueuo.com.png\n",
      "inference:  inference\\ufv.ca.png\n",
      "inference:  inference\\ultipro.com.png\n"
     ]
    }
   ],
   "execution_count": 3
  },
  {
   "metadata": {
    "ExecuteTime": {
     "end_time": "2025-06-02T23:15:50.018354Z",
     "start_time": "2025-06-02T23:15:39.662109Z"
    }
   },
   "cell_type": "code",
   "source": [
    "%matplotlib inline\n",
    "import os\n",
    "os.environ[\"KMP_DUPLICATE_LIB_OK\"]=\"TRUE\"\n",
    "!python test.py --ckpt checkpoint/FERDIG_all_FINAL.pth --img dataset/test_orig/asbarez.com.png --face_dir dataset/face_mask --text_dir dataset/text_mask --banner_dir dataset/banner_mask"
   ],
   "id": "dbfd1735f8da68f2",
   "outputs": [
    {
     "name": "stdout",
     "output_type": "stream",
     "text": [
      "Figure(600x1000)\n",
      "inference:  inference\\asbarez.com.png\n"
     ]
    }
   ],
   "execution_count": 5
  },
  {
   "metadata": {},
   "cell_type": "code",
   "outputs": [],
   "execution_count": null,
   "source": "",
   "id": "da9fa1618da61420"
  }
 ],
 "metadata": {
  "kernelspec": {
   "display_name": "Python 3",
   "language": "python",
   "name": "python3"
  },
  "language_info": {
   "codemirror_mode": {
    "name": "ipython",
    "version": 2
   },
   "file_extension": ".py",
   "mimetype": "text/x-python",
   "name": "python",
   "nbconvert_exporter": "python",
   "pygments_lexer": "ipython2",
   "version": "2.7.6"
  }
 },
 "nbformat": 4,
 "nbformat_minor": 5
}
